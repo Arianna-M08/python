{
  "nbformat": 4,
  "nbformat_minor": 0,
  "metadata": {
    "colab": {
      "provenance": [],
      "authorship_tag": "ABX9TyPFpFCpCmWVABb/DOjDr0oL",
      "include_colab_link": true
    },
    "kernelspec": {
      "name": "python3",
      "display_name": "Python 3"
    },
    "language_info": {
      "name": "python"
    }
  },
  "cells": [
    {
      "cell_type": "markdown",
      "metadata": {
        "id": "view-in-github",
        "colab_type": "text"
      },
      "source": [
        "<a href=\"https://colab.research.google.com/github/Arianna-M08/python/blob/main/string_operation.ipynb\" target=\"_parent\"><img src=\"https://colab.research.google.com/assets/colab-badge.svg\" alt=\"Open In Colab\"/></a>"
      ]
    },
    {
      "cell_type": "markdown",
      "source": [
        "Manipulating Strings"
      ],
      "metadata": {
        "id": "gXLCDj2_YOaw"
      }
    },
    {
      "cell_type": "code",
      "execution_count": 7,
      "metadata": {
        "colab": {
          "base_uri": "https://localhost:8080/"
        },
        "id": "-mRqjCkHX8gU",
        "outputId": "c9ed1555-1ef8-4c0c-fb85-b0e29125315f"
      },
      "outputs": [
        {
          "output_type": "stream",
          "name": "stdout",
          "text": [
            "Your first name is Arianna and your last name is Morrico\n"
          ]
        }
      ],
      "source": [
        "# String Initialization\n",
        "first_name = \"Arianna\"\n",
        "last_name = \"Morrico\"\n",
        "print ( \"Your first name is {0:s} and your last name is {1:s}\". format (first_name, last_name))"
      ]
    },
    {
      "cell_type": "code",
      "source": [
        "# Basic Operation\n",
        "# print the length of your string\n",
        "\n",
        "print (\"The length of your first name is {}, the datatype of your len function is {}\". format (len(first_name), type (len(first_name))))\n",
        "\n",
        "# Comcatentation\n",
        "\n",
        "full_name = first_name + \" \" + last_name\n",
        "print (\"Your name is: {}\". format (full_name))"
      ],
      "metadata": {
        "colab": {
          "base_uri": "https://localhost:8080/"
        },
        "id": "LJdWpJJ4arVm",
        "outputId": "134cf97a-3ac8-4096-8251-39c929b048ce"
      },
      "execution_count": 12,
      "outputs": [
        {
          "output_type": "stream",
          "name": "stdout",
          "text": [
            "The length of your first name is 7, the datatype of your len function is <class 'int'>\n",
            "Your name is: Arianna Morrico\n"
          ]
        }
      ]
    },
    {
      "cell_type": "code",
      "source": [
        "# Duplicating a string by a factor of k.\n",
        "\n",
        "k = 4\n",
        "\n",
        "print (first_name * 4)"
      ],
      "metadata": {
        "colab": {
          "base_uri": "https://localhost:8080/"
        },
        "id": "5sKGdiDJc1YO",
        "outputId": "d0f7e95d-39f5-480b-84a1-ae80d99e4b74"
      },
      "execution_count": 13,
      "outputs": [
        {
          "output_type": "stream",
          "name": "stdout",
          "text": [
            "AriannaAriannaAriannaArianna\n"
          ]
        }
      ]
    },
    {
      "cell_type": "code",
      "source": [
        "# string datatype are interables\n",
        "for letter in first_name: \n",
        "  print(letter, end=\" \")"
      ],
      "metadata": {
        "colab": {
          "base_uri": "https://localhost:8080/"
        },
        "id": "4pGA1iRJeMme",
        "outputId": "5e4aa631-f144-4bdb-fbd1-8f7b71c0a818"
      },
      "execution_count": 14,
      "outputs": [
        {
          "output_type": "stream",
          "name": "stdout",
          "text": [
            "A r i a n n a "
          ]
        }
      ]
    },
    {
      "cell_type": "code",
      "source": [
        "# Using the replace function\n",
        "\n",
        "full_name = full_name. replace(\"Morrico\", \"Potgeiter\")\n",
        "print (full_name)\n",
        "\n",
        "full_name = full_name.upper()\n",
        "print (full_name)"
      ],
      "metadata": {
        "colab": {
          "base_uri": "https://localhost:8080/"
        },
        "id": "DXymqraXe36m",
        "outputId": "fa1773e3-7349-40c8-8ac9-e4b1fead8136"
      },
      "execution_count": 19,
      "outputs": [
        {
          "output_type": "stream",
          "name": "stdout",
          "text": [
            "ARIANNA POTGEITER\n",
            "ARIANNA POTGEITER\n"
          ]
        }
      ]
    }
  ]
}